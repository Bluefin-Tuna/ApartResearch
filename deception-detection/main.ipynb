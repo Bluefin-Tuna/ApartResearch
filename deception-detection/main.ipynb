{
 "cells": [
  {
   "cell_type": "code",
   "execution_count": 1,
   "metadata": {},
   "outputs": [],
   "source": [
    "from pyfiles.blackjack import Blackjack"
   ]
  },
  {
   "cell_type": "code",
   "execution_count": 2,
   "metadata": {},
   "outputs": [
    {
     "name": "stdout",
     "output_type": "stream",
     "text": [
      "Player 1 draws: 5\n",
      "Player 2 draws: 2\n",
      "Dealer draws: 3\n",
      "Player 1 draws: 9\n",
      "Player 2 draws: Queen (10)\n",
      "Dealer draws: 2\n",
      "Current player: Player 1\n",
      "Hand: 5, 9\n",
      "Hand value: 14\n",
      "Dealer's visible card: 3\n",
      "Player 1 draws: 3\n",
      "Player 1's turn is over.\n",
      "\n",
      "Current player: Player 1\n",
      "Hand: 5, 9, 3\n",
      "Hand value: 17\n",
      "Dealer's visible card: 3\n",
      "Player 1's turn is over.\n",
      "\n",
      "Current player: Player 2\n",
      "Hand: 2, Queen (10)\n",
      "Hand value: 12\n",
      "Dealer's visible card: 3\n",
      "Player 2 draws: 8\n",
      "Player 2's turn is over.\n",
      "\n",
      "Current player: Player 2\n",
      "Hand: 2, Queen (10), 8\n",
      "Hand value: 20\n",
      "Dealer's visible card: 3\n",
      "All players have finished. Dealer's turn.\n",
      "\n",
      "Current player: Dealer\n",
      "Hand: 3, <hidden>\n",
      "Hand value: 5\n",
      "Dealer's visible card: 3\n",
      "Dealer draws: Jack (10)\n",
      "Dealer's turn continues.\n",
      "\n",
      "Current player: Dealer\n",
      "Hand: 3, <hidden>\n",
      "Hand value: 15\n",
      "Dealer's visible card: 3\n",
      "Dealer draws: King (10)\n",
      "Dealer busts!\n",
      "Dealer busts. Game over.\n",
      "\n",
      "Game Over!\n",
      "Dealer's hand: 3, <hidden> (Value: 25)\n",
      "Player 1's hand: 5, 9, 3 (Value: 17)\n",
      "Player 1 wins!\n",
      "Player 2's hand: 2, Queen (10), 8 (Value: 20)\n",
      "Player 2 wins!\n"
     ]
    }
   ],
   "source": [
    "game = Blackjack(num_players=2)\n",
    "game.deal_cards()\n",
    "\n",
    "while not game.game_over:\n",
    "    state = game.get_game_state()\n",
    "    print(f\"Current player: {state['current_player']}\")\n",
    "    print(f\"Hand: {state['current_player_hand']}\")\n",
    "    print(f\"Hand value: {state['current_player_hand_value']}\")\n",
    "    print(f\"Dealer's visible card: {state['dealer_visible_card']}\")\n",
    "\n",
    "    action = 'hit' if state['current_player_hand_value'] < 17 else 'stay'\n",
    "    \n",
    "    result = game.play_action(action)\n",
    "    print(result)\n",
    "    print()\n",
    "\n",
    "print(\"Game Over!\")\n",
    "print(game.show_results())"
   ]
  }
 ],
 "metadata": {
  "kernelspec": {
   "display_name": "deception.apartresearch",
   "language": "python",
   "name": "python3"
  },
  "language_info": {
   "codemirror_mode": {
    "name": "ipython",
    "version": 3
   },
   "file_extension": ".py",
   "mimetype": "text/x-python",
   "name": "python",
   "nbconvert_exporter": "python",
   "pygments_lexer": "ipython3",
   "version": "3.11.9"
  }
 },
 "nbformat": 4,
 "nbformat_minor": 2
}
